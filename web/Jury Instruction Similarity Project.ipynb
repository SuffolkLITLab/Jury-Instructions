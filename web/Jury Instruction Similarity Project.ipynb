{
 "cells": [
  {
   "cell_type": "markdown",
   "id": "42879f87",
   "metadata": {},
   "source": [
    "# Jury Instructions Similarity Project\n",
    "The purpose of this program is to run a similarities between jury instructions. The \"base\" jury instruction that will be compared to other instructions is the \"Civil Pattern Jury Instructions\" from the Georgia Superior Court, provided by the Internet Archive. "
   ]
  },
  {
   "cell_type": "code",
   "execution_count": 1,
   "id": "f9ce061b",
   "metadata": {},
   "outputs": [],
   "source": [
    "# Make sure we have the needed libraries. You only need to run these once\n",
    "#!pip install bs4\n",
    "#!pip install html5lib"
   ]
  },
  {
   "cell_type": "markdown",
   "id": "3cf20f9e",
   "metadata": {},
   "source": [
    "<p> \n",
    "    <i> BeautifulSoup and html5lib were installed to parse the JI html file. \n",
    "    <hr>"
   ]
  },
  {
   "cell_type": "code",
   "execution_count": 2,
   "id": "d0fef426",
   "metadata": {},
   "outputs": [],
   "source": [
    "import re\n",
    "import pandas as pd\n",
    "import spacy\n",
    "from scipy import spatial \n",
    "nlp = spacy.load(\"en_core_web_lg\") #this can take a minute or two to load"
   ]
  },
  {
   "cell_type": "markdown",
   "id": "24d4e670",
   "metadata": {},
   "source": [
    "<p> \n",
    "    <i> Regular Expressions was installed to organize the section heads and their corresponding text from the html file. Pandas placed the jury instructions, their section heads, and their vectors into a dataframe. Spacy vectorized the text. \n",
    "    <hr>"
   ]
  },
  {
   "cell_type": "code",
   "execution_count": 3,
   "id": "c87864f0",
   "metadata": {},
   "outputs": [],
   "source": [
    "from bs4 import BeautifulSoup\n",
    "with open(\"GAJI.html\") as fp:\n",
    "    soup = BeautifulSoup(fp, 'html.parser')"
   ]
  },
  {
   "cell_type": "markdown",
   "id": "a941ccc1",
   "metadata": {},
   "source": [
    "<p> \n",
    "    <i> Here, BeautifulSoup is parsing the html file. \n",
    "    <hr>"
   ]
  },
  {
   "cell_type": "code",
   "execution_count": 4,
   "id": "cc4aca71",
   "metadata": {},
   "outputs": [
    {
     "data": {
      "text/plain": [
       "3054"
      ]
     },
     "execution_count": 4,
     "metadata": {},
     "output_type": "execute_result"
    }
   ],
   "source": [
    "content = soup.find_all(\"div\", class_ = 'ocr_carea')\n",
    "len(content)"
   ]
  },
  {
   "cell_type": "markdown",
   "id": "5b6b60c3",
   "metadata": {},
   "source": [
    "<p> \n",
    "    <i> The html file that contains the JI was formatted one long body with minimal delineating tags. During the first pass through, I tried using the page numbers as a delineator, however that did not work because the sections run over multiple pages. \"ocr_carea\" worked nicely because it is as close to a paragraph/line tag that I could find. There are 3054 lines in the entire document. \n",
    "    <hr>"
   ]
  },
  {
   "cell_type": "code",
   "execution_count": 5,
   "id": "328ebee1",
   "metadata": {},
   "outputs": [],
   "source": [
    "results = []\n",
    "\n",
    "for result in content: \n",
    "    result = result.text\n",
    "    result = result.replace(\"\\n\", \" \")\n",
    "    results.append(result)\n",
    "\n",
    "\n",
    "results = results[114:2959]\n",
    "results = (''.join(results))"
   ]
  },
  {
   "cell_type": "markdown",
   "id": "3a29ffab",
   "metadata": {},
   "source": [
    "<p> \n",
    "    <i> The html format was messy and filled with blank spaces which made it difficult to parse and organize the text. I created a for loop to clean up the results by replacing the line breaks with a single whitespace. I also spliced the document to just the relavent content. \n",
    "    <hr>"
   ]
  },
  {
   "cell_type": "code",
   "execution_count": 6,
   "id": "dc7d60ab",
   "metadata": {},
   "outputs": [
    {
     "name": "stdout",
     "output_type": "stream",
     "text": [
      "<class 'list'>\n",
      "694\n"
     ]
    }
   ],
   "source": [
    "clean_sections_one = re.sub(r\"Preliminary General Instructions\", \"\", results)\n",
    "clean_sections_two = re.sub(r\"\\d Updated\", \"\", clean_sections_one)\n",
    "clean_sections_three = re.sub(r\"January \\d{4}\", \"\", clean_sections_two)\n",
    "clean_sections_four = re.sub(r\"General Instructions Updated\", \"\", clean_sections_three)\n",
    "clean_sections_five = re.sub(r\"Updated July 2014\", \"\", clean_sections_four)\n",
    "clean_sections_six = re.sub(r\"Updated August 2019\", \"\", clean_sections_five)\n",
    "clean_sections_seven = re.sub(r\"Updated August 2020\", \"\", clean_sections_six)\n",
    "clean_sections_eight = re.sub(r\"July \\d{4}\", \"\", clean_sections_seven)\n",
    "sec_results = re.split(\"(?<![a-zA-Z]{2}) \\d{2}\\.\\d{3}\", clean_sections_eight)\n",
    "print(type(sec_results))\n",
    "print(len(sec_results))"
   ]
  },
  {
   "cell_type": "markdown",
   "id": "0ba76d71",
   "metadata": {},
   "source": [
    "<p> \n",
    "    <i> Regular expression is used to isolate the content of each section. Using the section heads which follow the pattern xx.xxx (numerically), negative look behind is splitting everything that is not xx.xxx. The length is checked to ensure that it is the same as the length of section heads. The sec_results are then printed into a list. \n",
    "        <hr>"
   ]
  },
  {
   "cell_type": "code",
   "execution_count": 7,
   "id": "5c1dca2c",
   "metadata": {},
   "outputs": [
    {
     "name": "stdout",
     "output_type": "stream",
     "text": [
      "<class 'list'>\n",
      "693\n"
     ]
    }
   ],
   "source": [
    "section_list = re.findall(\"(?<![a-zA-Z]{2}) \\d{2}\\.\\d{3}\", results)\n",
    "print(type(section_list))\n",
    "print(len(section_list))"
   ]
  },
  {
   "cell_type": "markdown",
   "id": "44667270",
   "metadata": {},
   "source": [
    "<p>\n",
    "    <i> Using \"findall\" instead of split, the actual section heads are being isolated using the same regex shown above. \n",
    "        <hr>"
   ]
  },
  {
   "cell_type": "code",
   "execution_count": 8,
   "id": "ca3ea8c3",
   "metadata": {},
   "outputs": [],
   "source": [
    "#results_clean = []\n",
    "#for string in sec_results:\n",
    "    #if (string != \"\"):\n",
    "        #results_clean.append(string)\n",
    "#print(results_clean)"
   ]
  },
  {
   "cell_type": "code",
   "execution_count": 9,
   "id": "6ee1f541",
   "metadata": {},
   "outputs": [],
   "source": [
    "#type(results_clean)"
   ]
  },
  {
   "cell_type": "code",
   "execution_count": 10,
   "id": "f8a6d783",
   "metadata": {},
   "outputs": [],
   "source": [
    "doc = sec_results[1:815]"
   ]
  },
  {
   "cell_type": "markdown",
   "id": "ee92c7c0",
   "metadata": {},
   "source": [
    "<p>\n",
    "    <i> Splices sec_results to just the text that are the jury instructions, omitting the index and citations in the original document. \n",
    "        <hr>"
   ]
  },
  {
   "cell_type": "code",
   "execution_count": 11,
   "id": "73fb938e",
   "metadata": {},
   "outputs": [],
   "source": [
    "docdf = pd.DataFrame([],columns=[\"section\",\"text\",\"vector\"])\n",
    "for x in doc:\n",
    "    #print(x)\n",
    "    docdf = docdf.append(pd.DataFrame([[x, None]], columns=[\"text\",\"vector\"]), ignore_index=True)\n",
    "docdf[\"section\"] = section_list\n",
    "#docdf[\"similar instructions\"] = \"temp\""
   ]
  },
  {
   "cell_type": "markdown",
   "id": "f0424707",
   "metadata": {},
   "source": [
    "<p>\n",
    "    <i> Pandas (as pd) creates the dataframe. Columns are defined as \"section\" for the section heads, \"text\" for the text of each section, \"vector\" for the nlp vectorized text, and \"similar instructions\" as a placeholder for similar jury instructions. \"Similar instructions\" will likely be replaced with the similarity function defined below. \n",
    "        <hr> "
   ]
  },
  {
   "cell_type": "code",
   "execution_count": 12,
   "id": "265325a1",
   "metadata": {},
   "outputs": [],
   "source": [
    "def vectorize(row):\n",
    "    return nlp(row[\"text\"]).vector"
   ]
  },
  {
   "cell_type": "markdown",
   "id": "5a371794",
   "metadata": {},
   "source": [
    "<p> \n",
    "    <i> This function will vectorize the input running through the \"text\" column of the dataframe. \n",
    "        <hr>"
   ]
  },
  {
   "cell_type": "code",
   "execution_count": 13,
   "id": "ea682d83",
   "metadata": {},
   "outputs": [
    {
     "data": {
      "text/html": [
       "<div>\n",
       "<style scoped>\n",
       "    .dataframe tbody tr th:only-of-type {\n",
       "        vertical-align: middle;\n",
       "    }\n",
       "\n",
       "    .dataframe tbody tr th {\n",
       "        vertical-align: top;\n",
       "    }\n",
       "\n",
       "    .dataframe thead th {\n",
       "        text-align: right;\n",
       "    }\n",
       "</style>\n",
       "<table border=\"1\" class=\"dataframe\">\n",
       "  <thead>\n",
       "    <tr style=\"text-align: right;\">\n",
       "      <th></th>\n",
       "      <th>section</th>\n",
       "      <th>text</th>\n",
       "      <th>vector</th>\n",
       "    </tr>\n",
       "  </thead>\n",
       "  <tbody>\n",
       "    <tr>\n",
       "      <th>0</th>\n",
       "      <td>00.000</td>\n",
       "      <td>Evidence; Note Regarding Changes Based upon N...</td>\n",
       "      <td>None</td>\n",
       "    </tr>\n",
       "    <tr>\n",
       "      <th>1</th>\n",
       "      <td>00.005</td>\n",
       "      <td>(Civil): Before Introduction   of Evidence  ...</td>\n",
       "      <td>None</td>\n",
       "    </tr>\n",
       "    <tr>\n",
       "      <th>2</th>\n",
       "      <td>00.010</td>\n",
       "      <td>Generally      Members of the jury, the case ...</td>\n",
       "      <td>None</td>\n",
       "    </tr>\n",
       "    <tr>\n",
       "      <th>3</th>\n",
       "      <td>00.020</td>\n",
       "      <td>Evidence     You determine the facts from the...</td>\n",
       "      <td>None</td>\n",
       "    </tr>\n",
       "    <tr>\n",
       "      <th>4</th>\n",
       "      <td>00.030</td>\n",
       "      <td>Parties (Optional)   You must consider this c...</td>\n",
       "      <td>None</td>\n",
       "    </tr>\n",
       "    <tr>\n",
       "      <th>...</th>\n",
       "      <td>...</td>\n",
       "      <td>...</td>\n",
       "      <td>...</td>\n",
       "    </tr>\n",
       "    <tr>\n",
       "      <th>688</th>\n",
       "      <td>78.000</td>\n",
       "      <td>YEAR’S SUPPORT</td>\n",
       "      <td>None</td>\n",
       "    </tr>\n",
       "    <tr>\n",
       "      <th>689</th>\n",
       "      <td>78.010</td>\n",
       "      <td>Year’s Support; Entitlement     The surviving...</td>\n",
       "      <td>None</td>\n",
       "    </tr>\n",
       "    <tr>\n",
       "      <th>690</th>\n",
       "      <td>78.020</td>\n",
       "      <td>Year’s Support; Amount of Award     If object...</td>\n",
       "      <td>None</td>\n",
       "    </tr>\n",
       "    <tr>\n",
       "      <th>691</th>\n",
       "      <td>78.030</td>\n",
       "      <td>Year’s Support; Burden of Proof   The petitio...</td>\n",
       "      <td>None</td>\n",
       "    </tr>\n",
       "    <tr>\n",
       "      <th>692</th>\n",
       "      <td>78.040</td>\n",
       "      <td>Year’s Support; Vesting of Title to Property ...</td>\n",
       "      <td>None</td>\n",
       "    </tr>\n",
       "  </tbody>\n",
       "</table>\n",
       "<p>693 rows × 3 columns</p>\n",
       "</div>"
      ],
      "text/plain": [
       "     section                                               text vector\n",
       "0     00.000   Evidence; Note Regarding Changes Based upon N...   None\n",
       "1     00.005    (Civil): Before Introduction   of Evidence  ...   None\n",
       "2     00.010   Generally      Members of the jury, the case ...   None\n",
       "3     00.020   Evidence     You determine the facts from the...   None\n",
       "4     00.030   Parties (Optional)   You must consider this c...   None\n",
       "..       ...                                                ...    ...\n",
       "688   78.000                                YEAR’S SUPPORT        None\n",
       "689   78.010   Year’s Support; Entitlement     The surviving...   None\n",
       "690   78.020   Year’s Support; Amount of Award     If object...   None\n",
       "691   78.030   Year’s Support; Burden of Proof   The petitio...   None\n",
       "692   78.040   Year’s Support; Vesting of Title to Property ...   None\n",
       "\n",
       "[693 rows x 3 columns]"
      ]
     },
     "execution_count": 13,
     "metadata": {},
     "output_type": "execute_result"
    }
   ],
   "source": [
    "docdf"
   ]
  },
  {
   "cell_type": "markdown",
   "id": "a091bb0f",
   "metadata": {},
   "source": [
    "<p> \n",
    "    <i> Initial pass through of the dataframe. Vector function has not been applied. \n",
    "        <hr>"
   ]
  },
  {
   "cell_type": "code",
   "execution_count": 14,
   "id": "b516f2e4",
   "metadata": {},
   "outputs": [],
   "source": [
    "docdf[\"vector\"] = docdf.apply(vectorize, axis=1)"
   ]
  },
  {
   "cell_type": "markdown",
   "id": "85f1dbc4",
   "metadata": {},
   "source": [
    "<p>\n",
    "    <i> Runs the vector function through each cell of the dataframe. \n",
    "        <hr>"
   ]
  },
  {
   "cell_type": "code",
   "execution_count": 15,
   "id": "14cb5f4f",
   "metadata": {},
   "outputs": [
    {
     "data": {
      "text/html": [
       "<div>\n",
       "<style scoped>\n",
       "    .dataframe tbody tr th:only-of-type {\n",
       "        vertical-align: middle;\n",
       "    }\n",
       "\n",
       "    .dataframe tbody tr th {\n",
       "        vertical-align: top;\n",
       "    }\n",
       "\n",
       "    .dataframe thead th {\n",
       "        text-align: right;\n",
       "    }\n",
       "</style>\n",
       "<table border=\"1\" class=\"dataframe\">\n",
       "  <thead>\n",
       "    <tr style=\"text-align: right;\">\n",
       "      <th></th>\n",
       "      <th>section</th>\n",
       "      <th>text</th>\n",
       "      <th>vector</th>\n",
       "    </tr>\n",
       "  </thead>\n",
       "  <tbody>\n",
       "    <tr>\n",
       "      <th>0</th>\n",
       "      <td>00.000</td>\n",
       "      <td>Evidence; Note Regarding Changes Based upon N...</td>\n",
       "      <td>[0.011602934, 0.11262337, -0.074103616, -0.079...</td>\n",
       "    </tr>\n",
       "    <tr>\n",
       "      <th>1</th>\n",
       "      <td>00.005</td>\n",
       "      <td>(Civil): Before Introduction   of Evidence  ...</td>\n",
       "      <td>[-0.021564402, 0.12485398, -0.062207088, -0.05...</td>\n",
       "    </tr>\n",
       "    <tr>\n",
       "      <th>2</th>\n",
       "      <td>00.010</td>\n",
       "      <td>Generally      Members of the jury, the case ...</td>\n",
       "      <td>[-0.017002761, 0.18788356, -0.15679309, -0.019...</td>\n",
       "    </tr>\n",
       "    <tr>\n",
       "      <th>3</th>\n",
       "      <td>00.020</td>\n",
       "      <td>Evidence     You determine the facts from the...</td>\n",
       "      <td>[-0.029937955, 0.12117469, -0.15202114, -0.046...</td>\n",
       "    </tr>\n",
       "    <tr>\n",
       "      <th>4</th>\n",
       "      <td>00.030</td>\n",
       "      <td>Parties (Optional)   You must consider this c...</td>\n",
       "      <td>[-0.021735033, 0.08105373, -0.13502479, -0.060...</td>\n",
       "    </tr>\n",
       "    <tr>\n",
       "      <th>...</th>\n",
       "      <td>...</td>\n",
       "      <td>...</td>\n",
       "      <td>...</td>\n",
       "    </tr>\n",
       "    <tr>\n",
       "      <th>688</th>\n",
       "      <td>78.000</td>\n",
       "      <td>YEAR’S SUPPORT</td>\n",
       "      <td>[-0.0579694, 0.045098, 0.0048918007, 0.1186379...</td>\n",
       "    </tr>\n",
       "    <tr>\n",
       "      <th>689</th>\n",
       "      <td>78.010</td>\n",
       "      <td>Year’s Support; Entitlement     The surviving...</td>\n",
       "      <td>[-0.030390836, 0.11698262, -0.14236122, -0.026...</td>\n",
       "    </tr>\n",
       "    <tr>\n",
       "      <th>690</th>\n",
       "      <td>78.020</td>\n",
       "      <td>Year’s Support; Amount of Award     If object...</td>\n",
       "      <td>[-0.018070256, 0.10453738, -0.12511279, -0.035...</td>\n",
       "    </tr>\n",
       "    <tr>\n",
       "      <th>691</th>\n",
       "      <td>78.030</td>\n",
       "      <td>Year’s Support; Burden of Proof   The petitio...</td>\n",
       "      <td>[-0.058484677, 0.09231084, -0.059771817, -0.02...</td>\n",
       "    </tr>\n",
       "    <tr>\n",
       "      <th>692</th>\n",
       "      <td>78.040</td>\n",
       "      <td>Year’s Support; Vesting of Title to Property ...</td>\n",
       "      <td>[0.009974848, 0.09043567, -0.11305386, -0.0535...</td>\n",
       "    </tr>\n",
       "  </tbody>\n",
       "</table>\n",
       "<p>693 rows × 3 columns</p>\n",
       "</div>"
      ],
      "text/plain": [
       "     section                                               text  \\\n",
       "0     00.000   Evidence; Note Regarding Changes Based upon N...   \n",
       "1     00.005    (Civil): Before Introduction   of Evidence  ...   \n",
       "2     00.010   Generally      Members of the jury, the case ...   \n",
       "3     00.020   Evidence     You determine the facts from the...   \n",
       "4     00.030   Parties (Optional)   You must consider this c...   \n",
       "..       ...                                                ...   \n",
       "688   78.000                                YEAR’S SUPPORT        \n",
       "689   78.010   Year’s Support; Entitlement     The surviving...   \n",
       "690   78.020   Year’s Support; Amount of Award     If object...   \n",
       "691   78.030   Year’s Support; Burden of Proof   The petitio...   \n",
       "692   78.040   Year’s Support; Vesting of Title to Property ...   \n",
       "\n",
       "                                                vector  \n",
       "0    [0.011602934, 0.11262337, -0.074103616, -0.079...  \n",
       "1    [-0.021564402, 0.12485398, -0.062207088, -0.05...  \n",
       "2    [-0.017002761, 0.18788356, -0.15679309, -0.019...  \n",
       "3    [-0.029937955, 0.12117469, -0.15202114, -0.046...  \n",
       "4    [-0.021735033, 0.08105373, -0.13502479, -0.060...  \n",
       "..                                                 ...  \n",
       "688  [-0.0579694, 0.045098, 0.0048918007, 0.1186379...  \n",
       "689  [-0.030390836, 0.11698262, -0.14236122, -0.026...  \n",
       "690  [-0.018070256, 0.10453738, -0.12511279, -0.035...  \n",
       "691  [-0.058484677, 0.09231084, -0.059771817, -0.02...  \n",
       "692  [0.009974848, 0.09043567, -0.11305386, -0.0535...  \n",
       "\n",
       "[693 rows x 3 columns]"
      ]
     },
     "execution_count": 15,
     "metadata": {},
     "output_type": "execute_result"
    }
   ],
   "source": [
    "docdf"
   ]
  },
  {
   "cell_type": "markdown",
   "id": "8294ffb2",
   "metadata": {},
   "source": [
    "<p>\n",
    "    <i> Completed dataframe. \n",
    "        <hr>"
   ]
  },
  {
   "cell_type": "code",
   "execution_count": 17,
   "id": "46fd0f6f",
   "metadata": {},
   "outputs": [],
   "source": [
    "with open(\"KAJI.html\") as fp2:\n",
    "    soup2 = BeautifulSoup(fp2, 'html.parser')\n",
    "KAcontent = soup2.find_all(\"div\", class_ = 'ocr_carea')\n",
    "\n",
    "KAresults = []\n",
    "for result in KAcontent: \n",
    "    result = result.text\n",
    "    result = result.replace(\"\\n\", \" \")\n",
    "    KAresults.append(result)\n",
    "KAresults = KAresults[756:7880]\n",
    "KAresults = (''.join(KAresults))\n",
    "\n",
    "KA_trimmed = re.sub(r\"(\\d{3}\\.\\d{2} Pattern Instructions Kansas \\d)\", \"\", KAresults)\n",
    "trimmed_text = re.sub(r\"Pattern Instructions Kansas \\d\", \"\", KA_trimmed)\n",
    "headings_list = re.findall(\"(\\d{3}\\.\\d{2})\\s*[A-Z]{2}\", trimmed_text)\n",
    "section_starts = re.findall(r\"(\\d{3}\\.\\d{2}\\s*)([A-Z]{2})\", trimmed_text)\n",
    "to_split = re.sub(r\"(\\d{3}\\.\\d{2}\\s*)[A-Z]{2}\", \"---ABCDEFG1234---\", trimmed_text)\n",
    "\n",
    "clean_text = re.sub(r\"\\d{3}\\.\\d{2}\", \"\", to_split)\n",
    "cleaner_text = re.sub(r\"\\d{3}\\-\\d{2}\", \"\", clean_text)\n",
    "cleanest_text = re.sub(r\"\\d{3}\\-\\d \", \"\", cleaner_text)\n",
    "\n",
    "section_ends = re.split(r\"---ABCDEFG1234---\", cleanest_text)\n",
    "trimmed_section_ends = section_ends[1:]\n",
    "\n",
    "section_text = []\n",
    "for section_index in range(len(section_starts)):\n",
    "    current_section_start_tuple = section_starts[section_index]\n",
    "    current_first_two_letters = current_section_start_tuple[1]\n",
    "    current_end = trimmed_section_ends[section_index]\n",
    "    combined = current_first_two_letters + current_end\n",
    "    section_text.append(combined)\n",
    "    \n",
    "KAdf = pd.DataFrame([],columns=[\"section\",\"text\",\"vector\"])\n",
    "for x in section_text:\n",
    "    #print(x)\n",
    "    KAdf = KAdf.append(pd.DataFrame([[x, None]], columns=[\"text\",\"vector\"]), ignore_index=True)\n",
    "KAdf[\"section\"] = headings_list\n",
    "\n",
    "def vectorize(row):\n",
    "    return nlp(row[\"text\"]).vector"
   ]
  },
  {
   "cell_type": "markdown",
   "id": "9991ebc5",
   "metadata": {},
   "source": [
    "<p>\n",
    "    <i> A second dataframe with Kansas jury instructions is being created. Same steps taken as GA jury instruction, just consolodated into one cell. \n",
    "        <hr>"
   ]
  },
  {
   "cell_type": "code",
   "execution_count": 18,
   "id": "296467a6",
   "metadata": {},
   "outputs": [
    {
     "data": {
      "text/html": [
       "<div>\n",
       "<style scoped>\n",
       "    .dataframe tbody tr th:only-of-type {\n",
       "        vertical-align: middle;\n",
       "    }\n",
       "\n",
       "    .dataframe tbody tr th {\n",
       "        vertical-align: top;\n",
       "    }\n",
       "\n",
       "    .dataframe thead th {\n",
       "        text-align: right;\n",
       "    }\n",
       "</style>\n",
       "<table border=\"1\" class=\"dataframe\">\n",
       "  <thead>\n",
       "    <tr style=\"text-align: right;\">\n",
       "      <th></th>\n",
       "      <th>section</th>\n",
       "      <th>text</th>\n",
       "      <th>vector</th>\n",
       "    </tr>\n",
       "  </thead>\n",
       "  <tbody>\n",
       "    <tr>\n",
       "      <th>0</th>\n",
       "      <td>101.01</td>\n",
       "      <td>JURY HANDBOOK USAGE RECOMMENDED      The Commi...</td>\n",
       "      <td>None</td>\n",
       "    </tr>\n",
       "    <tr>\n",
       "      <th>1</th>\n",
       "      <td>101.02</td>\n",
       "      <td>HANDBOOK FOR JURORS      I. The Importance of ...</td>\n",
       "      <td>None</td>\n",
       "    </tr>\n",
       "    <tr>\n",
       "      <th>2</th>\n",
       "      <td>101.03</td>\n",
       "      <td>IMPORTANCE OF JURY SERVICE      Comment      T...</td>\n",
       "      <td>None</td>\n",
       "    </tr>\n",
       "    <tr>\n",
       "      <th>3</th>\n",
       "      <td>101.04</td>\n",
       "      <td>METHOD OF SELECTING JURY PANEL      Comment   ...</td>\n",
       "      <td>None</td>\n",
       "    </tr>\n",
       "    <tr>\n",
       "      <th>4</th>\n",
       "      <td>101.05</td>\n",
       "      <td>EXCUSES FROM JURY DUTY      Comment      This ...</td>\n",
       "      <td>None</td>\n",
       "    </tr>\n",
       "    <tr>\n",
       "      <th>...</th>\n",
       "      <td>...</td>\n",
       "      <td>...</td>\n",
       "      <td>...</td>\n",
       "    </tr>\n",
       "    <tr>\n",
       "      <th>473</th>\n",
       "      <td>191.01</td>\n",
       "      <td>AUTO ACCIDENT      Factual Summary      Plaint...</td>\n",
       "      <td>None</td>\n",
       "    </tr>\n",
       "    <tr>\n",
       "      <th>474</th>\n",
       "      <td>191.02</td>\n",
       "      <td>AUTO ACCIDENT—TWO DRIVERS, TWO PASSENGERS     ...</td>\n",
       "      <td>None</td>\n",
       "    </tr>\n",
       "    <tr>\n",
       "      <th>475</th>\n",
       "      <td>191.11</td>\n",
       "      <td>MEDICAL MALPRACTICE—TWO DEFENDANTS—   LOSS OF ...</td>\n",
       "      <td>None</td>\n",
       "    </tr>\n",
       "    <tr>\n",
       "      <th>476</th>\n",
       "      <td>191.21</td>\n",
       "      <td>CONTRACT, FRAUD      Factual Allegations      ...</td>\n",
       "      <td>None</td>\n",
       "    </tr>\n",
       "    <tr>\n",
       "      <th>477</th>\n",
       "      <td>191.31</td>\n",
       "      <td>EMINENT DOMAIN      Factual Summary      The K...</td>\n",
       "      <td>None</td>\n",
       "    </tr>\n",
       "  </tbody>\n",
       "</table>\n",
       "<p>478 rows × 3 columns</p>\n",
       "</div>"
      ],
      "text/plain": [
       "    section                                               text vector\n",
       "0    101.01  JURY HANDBOOK USAGE RECOMMENDED      The Commi...   None\n",
       "1    101.02  HANDBOOK FOR JURORS      I. The Importance of ...   None\n",
       "2    101.03  IMPORTANCE OF JURY SERVICE      Comment      T...   None\n",
       "3    101.04  METHOD OF SELECTING JURY PANEL      Comment   ...   None\n",
       "4    101.05  EXCUSES FROM JURY DUTY      Comment      This ...   None\n",
       "..      ...                                                ...    ...\n",
       "473  191.01  AUTO ACCIDENT      Factual Summary      Plaint...   None\n",
       "474  191.02  AUTO ACCIDENT—TWO DRIVERS, TWO PASSENGERS     ...   None\n",
       "475  191.11  MEDICAL MALPRACTICE—TWO DEFENDANTS—   LOSS OF ...   None\n",
       "476  191.21  CONTRACT, FRAUD      Factual Allegations      ...   None\n",
       "477  191.31  EMINENT DOMAIN      Factual Summary      The K...   None\n",
       "\n",
       "[478 rows x 3 columns]"
      ]
     },
     "execution_count": 18,
     "metadata": {},
     "output_type": "execute_result"
    }
   ],
   "source": [
    "KAdf"
   ]
  },
  {
   "cell_type": "markdown",
   "id": "d99f5cd9",
   "metadata": {},
   "source": [
    "<p>\n",
    "    <i> Initial pass through of the dataframe. Vector function has not been applied.\n",
    "        <hr>"
   ]
  },
  {
   "cell_type": "code",
   "execution_count": 19,
   "id": "29d039fa",
   "metadata": {},
   "outputs": [],
   "source": [
    "KAdf[\"vector\"] = KAdf.apply(vectorize, axis=1)"
   ]
  },
  {
   "cell_type": "markdown",
   "id": "6111aa01",
   "metadata": {},
   "source": [
    "<p>\n",
    "    <i> Runs the vector function through each cell of the dataframe.\n",
    "        <hr>"
   ]
  },
  {
   "cell_type": "code",
   "execution_count": 20,
   "id": "953b6c0d",
   "metadata": {},
   "outputs": [
    {
     "data": {
      "text/html": [
       "<div>\n",
       "<style scoped>\n",
       "    .dataframe tbody tr th:only-of-type {\n",
       "        vertical-align: middle;\n",
       "    }\n",
       "\n",
       "    .dataframe tbody tr th {\n",
       "        vertical-align: top;\n",
       "    }\n",
       "\n",
       "    .dataframe thead th {\n",
       "        text-align: right;\n",
       "    }\n",
       "</style>\n",
       "<table border=\"1\" class=\"dataframe\">\n",
       "  <thead>\n",
       "    <tr style=\"text-align: right;\">\n",
       "      <th></th>\n",
       "      <th>section</th>\n",
       "      <th>text</th>\n",
       "      <th>vector</th>\n",
       "    </tr>\n",
       "  </thead>\n",
       "  <tbody>\n",
       "    <tr>\n",
       "      <th>0</th>\n",
       "      <td>101.01</td>\n",
       "      <td>JURY HANDBOOK USAGE RECOMMENDED      The Commi...</td>\n",
       "      <td>[-0.0071784426, 0.16388734, -0.040732857, -0.0...</td>\n",
       "    </tr>\n",
       "    <tr>\n",
       "      <th>1</th>\n",
       "      <td>101.02</td>\n",
       "      <td>HANDBOOK FOR JURORS      I. The Importance of ...</td>\n",
       "      <td>[-0.026811205, 0.11125102, -0.13919875, -0.023...</td>\n",
       "    </tr>\n",
       "    <tr>\n",
       "      <th>2</th>\n",
       "      <td>101.03</td>\n",
       "      <td>IMPORTANCE OF JURY SERVICE      Comment      T...</td>\n",
       "      <td>[-0.060275327, 0.22410202, -0.01242239, -0.055...</td>\n",
       "    </tr>\n",
       "    <tr>\n",
       "      <th>3</th>\n",
       "      <td>101.04</td>\n",
       "      <td>METHOD OF SELECTING JURY PANEL      Comment   ...</td>\n",
       "      <td>[-0.05365543, 0.23475248, -0.012920184, -0.042...</td>\n",
       "    </tr>\n",
       "    <tr>\n",
       "      <th>4</th>\n",
       "      <td>101.05</td>\n",
       "      <td>EXCUSES FROM JURY DUTY      Comment      This ...</td>\n",
       "      <td>[-0.07529171, 0.19577427, -0.02056773, -0.0601...</td>\n",
       "    </tr>\n",
       "    <tr>\n",
       "      <th>...</th>\n",
       "      <td>...</td>\n",
       "      <td>...</td>\n",
       "      <td>...</td>\n",
       "    </tr>\n",
       "    <tr>\n",
       "      <th>473</th>\n",
       "      <td>191.01</td>\n",
       "      <td>AUTO ACCIDENT      Factual Summary      Plaint...</td>\n",
       "      <td>[-0.06553959, 0.16846004, -0.14060146, -0.0485...</td>\n",
       "    </tr>\n",
       "    <tr>\n",
       "      <th>474</th>\n",
       "      <td>191.02</td>\n",
       "      <td>AUTO ACCIDENT—TWO DRIVERS, TWO PASSENGERS     ...</td>\n",
       "      <td>[-0.05621617, 0.16104051, -0.14128214, -0.0509...</td>\n",
       "    </tr>\n",
       "    <tr>\n",
       "      <th>475</th>\n",
       "      <td>191.11</td>\n",
       "      <td>MEDICAL MALPRACTICE—TWO DEFENDANTS—   LOSS OF ...</td>\n",
       "      <td>[-0.066119775, 0.16307037, -0.14596342, -0.031...</td>\n",
       "    </tr>\n",
       "    <tr>\n",
       "      <th>476</th>\n",
       "      <td>191.21</td>\n",
       "      <td>CONTRACT, FRAUD      Factual Allegations      ...</td>\n",
       "      <td>[-0.064156264, 0.14843899, -0.14877954, -0.071...</td>\n",
       "    </tr>\n",
       "    <tr>\n",
       "      <th>477</th>\n",
       "      <td>191.31</td>\n",
       "      <td>EMINENT DOMAIN      Factual Summary      The K...</td>\n",
       "      <td>[-0.02347532, 0.15341292, -0.10851942, -0.0627...</td>\n",
       "    </tr>\n",
       "  </tbody>\n",
       "</table>\n",
       "<p>478 rows × 3 columns</p>\n",
       "</div>"
      ],
      "text/plain": [
       "    section                                               text  \\\n",
       "0    101.01  JURY HANDBOOK USAGE RECOMMENDED      The Commi...   \n",
       "1    101.02  HANDBOOK FOR JURORS      I. The Importance of ...   \n",
       "2    101.03  IMPORTANCE OF JURY SERVICE      Comment      T...   \n",
       "3    101.04  METHOD OF SELECTING JURY PANEL      Comment   ...   \n",
       "4    101.05  EXCUSES FROM JURY DUTY      Comment      This ...   \n",
       "..      ...                                                ...   \n",
       "473  191.01  AUTO ACCIDENT      Factual Summary      Plaint...   \n",
       "474  191.02  AUTO ACCIDENT—TWO DRIVERS, TWO PASSENGERS     ...   \n",
       "475  191.11  MEDICAL MALPRACTICE—TWO DEFENDANTS—   LOSS OF ...   \n",
       "476  191.21  CONTRACT, FRAUD      Factual Allegations      ...   \n",
       "477  191.31  EMINENT DOMAIN      Factual Summary      The K...   \n",
       "\n",
       "                                                vector  \n",
       "0    [-0.0071784426, 0.16388734, -0.040732857, -0.0...  \n",
       "1    [-0.026811205, 0.11125102, -0.13919875, -0.023...  \n",
       "2    [-0.060275327, 0.22410202, -0.01242239, -0.055...  \n",
       "3    [-0.05365543, 0.23475248, -0.012920184, -0.042...  \n",
       "4    [-0.07529171, 0.19577427, -0.02056773, -0.0601...  \n",
       "..                                                 ...  \n",
       "473  [-0.06553959, 0.16846004, -0.14060146, -0.0485...  \n",
       "474  [-0.05621617, 0.16104051, -0.14128214, -0.0509...  \n",
       "475  [-0.066119775, 0.16307037, -0.14596342, -0.031...  \n",
       "476  [-0.064156264, 0.14843899, -0.14877954, -0.071...  \n",
       "477  [-0.02347532, 0.15341292, -0.10851942, -0.0627...  \n",
       "\n",
       "[478 rows x 3 columns]"
      ]
     },
     "execution_count": 20,
     "metadata": {},
     "output_type": "execute_result"
    }
   ],
   "source": [
    "KAdf"
   ]
  },
  {
   "cell_type": "markdown",
   "id": "3ac57d80",
   "metadata": {},
   "source": [
    "<p>\n",
    "    <i> Completed KA dataframe\n",
    "        <hr>"
   ]
  },
  {
   "cell_type": "code",
   "execution_count": 21,
   "id": "893afc8c",
   "metadata": {},
   "outputs": [],
   "source": [
    "source_text = \"Juror Use of Electronic Technology to Conduct\"\n",
    "\n",
    "def find_dist(row,source_text):\n",
    "    v1 = nlp(source_text).vector\n",
    "    v2 = row\n",
    "    dist = 1-spatial.distance.cosine(v1,v2)\n",
    "    return dist\n",
    "\n",
    "def find_similar(df,source_text,n=5,sim=.90):\n",
    "    df[\"similarity\"] = df[\"vector\"].apply(find_dist, args=(source_text,))\n",
    "    df_similarity = (df.sort_values(by=[\"similarity\"], ascending=False))\n",
    "    return(df_similarity[df_similarity[\"similarity\"]>=sim][:n])"
   ]
  },
  {
   "cell_type": "markdown",
   "id": "0e254e84",
   "metadata": {},
   "source": [
    "<p>\n",
    "    <i> \"source_text\" is the text that is being compared in the dataframe. Wihtin the \"find_dist\" function, v1 vectorizes source_text, v2 is defined as each row of a given dataframe, and dist uses cosine similarity to measure the distance between v1 and v2. \n",
    "        The \"find_similar\" function creates a new column within a given dataframe that shows the cosine similarity. It is also passing \"source_text\" through the function, sets the amount of similar JI to 5, and sets the minimum similarity to .90 (or 90% similar). The function also sorts the output in descending order.\n",
    "        <hr>"
   ]
  },
  {
   "cell_type": "code",
   "execution_count": 22,
   "id": "3f125425",
   "metadata": {},
   "outputs": [
    {
     "data": {
      "text/html": [
       "<div>\n",
       "<style scoped>\n",
       "    .dataframe tbody tr th:only-of-type {\n",
       "        vertical-align: middle;\n",
       "    }\n",
       "\n",
       "    .dataframe tbody tr th {\n",
       "        vertical-align: top;\n",
       "    }\n",
       "\n",
       "    .dataframe thead th {\n",
       "        text-align: right;\n",
       "    }\n",
       "</style>\n",
       "<table border=\"1\" class=\"dataframe\">\n",
       "  <thead>\n",
       "    <tr style=\"text-align: right;\">\n",
       "      <th></th>\n",
       "      <th>section</th>\n",
       "      <th>text</th>\n",
       "      <th>vector</th>\n",
       "      <th>similarity</th>\n",
       "    </tr>\n",
       "  </thead>\n",
       "  <tbody>\n",
       "    <tr>\n",
       "      <th>184</th>\n",
       "      <td>00.110</td>\n",
       "      <td>Juror Use of Electronic Technology      END O...</td>\n",
       "      <td>[-0.099581, 0.19737351, 0.059162498, 0.0451945...</td>\n",
       "      <td>0.941348</td>\n",
       "    </tr>\n",
       "  </tbody>\n",
       "</table>\n",
       "</div>"
      ],
      "text/plain": [
       "     section                                               text  \\\n",
       "184   00.110   Juror Use of Electronic Technology      END O...   \n",
       "\n",
       "                                                vector  similarity  \n",
       "184  [-0.099581, 0.19737351, 0.059162498, 0.0451945...    0.941348  "
      ]
     },
     "execution_count": 22,
     "metadata": {},
     "output_type": "execute_result"
    }
   ],
   "source": [
    "find_similar(docdf, source_text, sim=.90)"
   ]
  },
  {
   "cell_type": "markdown",
   "id": "774f6884",
   "metadata": {},
   "source": [
    "<p> \n",
    "    <i> \"find_similar\" is passing the Georgia JI dataframe, the source text, and setting the minimum similarity to .90. Here, there is only one section of the Georgia JI that is at least 90% similar to the source text. \n",
    "        <hr>"
   ]
  },
  {
   "cell_type": "code",
   "execution_count": 36,
   "id": "95a5b645",
   "metadata": {},
   "outputs": [],
   "source": [
    "html_string = \"\"\"<html>\n",
    "<head>\n",
    "    <style>\n",
    "        .content {\n",
    "            margin:15px auto 0 auto;\n",
    "            padding:0 15px;\n",
    "            max-width:650px;\n",
    "        }\n",
    "        a.anchor {\n",
    "            display:block;\n",
    "            float:right;\n",
    "            width:22px;\n",
    "            height:16px;\n",
    "            background-image: url(\"https://suffolklitlab.org/images/link.png\");\n",
    "            background-repeat: no-repeat;\n",
    "            background-position: center;\n",
    "        }\n",
    "    </style>\n",
    "</head>\n",
    "<body>\n",
    "    <div class=\"content\">\n",
    "    <h1>Kansas Jury Instructions w/ AI Annotations</h1>\n",
    "    <p>[Preamble describing the nature of this annotated presentation]</p>\n",
    "\"\"\"\n",
    "for index, item in KAdf.iterrows():\n",
    "    df_section = item[\"section\"]\n",
    "    df_text = item[\"text\"]\n",
    "    #sim_results = find_similar(docdf, df_text)\n",
    "    html_string = html_string + \"<hr><h4><a class=\\\"anchor\\\" name='\"+df_section+\"' href='#\"+df_section+\"'></a>\"+df_section+\"</h4><p>\"+df_text\n",
    "    #if len(sim_results)>0:\n",
    "        #html_string = html_string + \"<p>Similar sections in George JI: \"\n",
    "        #for index_2, row in sim_results.iterrows():\n",
    "            #html_string = html_string + \"<a href='Georgia.html#\"+row[\"section\"]+\"'>\"+row[\"section\"]+\"</a> (\"+str(round(row[\"similarity\"]*100))+\"%); \"\n",
    "        #html_string = html_string + \"</p>\"\n",
    "html_string = html_string + \"\"\"\n",
    "    <hr>\n",
    "    <p style=\"text-align:center;margin-bottom:150px;\">\n",
    "        The code used to produce this can be found on <a href=\"https://github.com/SuffolkLITLab/Jury-Instructions/blob/main/web/Jury%20Instruction%20Similarity%20Project.ipynb\" target=\"_blank\">GitHub</a>.\n",
    "    </p>\n",
    "    </div>\n",
    "</html>\n",
    "\"\"\"\n",
    "with open(\"Kansas.html\",\"w\") as file: \n",
    "    file.write(html_string)"
   ]
  },
  {
   "cell_type": "markdown",
   "id": "ec8d88aa",
   "metadata": {},
   "source": [
    "<p> \n",
    "    <i> HTML construction. For loop iterates through the section column and the text column of the KA jury instruction dataframe. This allows the format of the HTML to produce the section head above the text of each section. An empty a-tag is created to allow for the possibility of the KA jury instruction to be the base in a different similarity. \n",
    "        <hr>"
   ]
  },
  {
   "cell_type": "code",
   "execution_count": 45,
   "id": "8353dbc7",
   "metadata": {},
   "outputs": [],
   "source": [
    "html_string = \"\"\"<html>\n",
    "<head>\n",
    "    <style>\n",
    "        .content {\n",
    "            margin:15px auto 0 auto;\n",
    "            padding:0 15px;\n",
    "            max-width:650px;\n",
    "        }\n",
    "        a.anchor {\n",
    "            display:block;\n",
    "            float:right;\n",
    "            width:22px;\n",
    "            height:16px;\n",
    "            background-image: url(\"https://suffolklitlab.org/images/link.png\");\n",
    "            background-repeat: no-repeat;\n",
    "            background-position: center;\n",
    "        }\n",
    "    </style>\n",
    "</head>\n",
    "<body>\n",
    "    <div class=\"content\">\n",
    "    <h1>Georgia Jury Instructions w/ AI Annotations</h1>\n",
    "    <p>[Preamble describing the nature of this annotated presentation]</p>\n",
    "\"\"\"\n",
    "for index, item in docdf[:3].iterrows(): # you can comment out the line below and use this one to test with only a few rows\n",
    "#for index, item in docdf.iterrows():\n",
    "    df_section = item[\"section\"]\n",
    "    df_text = item[\"text\"]\n",
    "    sim_results = find_similar(KAdf, df_text)\n",
    "    html_string = html_string + \"<hr><h4><a class=\\\"anchor\\\" name='\"+df_section+\"' href='#\"+df_section+\"'></a>\"+df_section+\"</h4><p>\"+df_text\n",
    "    if len(sim_results)>0:\n",
    "        html_string = html_string + \"<p>Similar sections in Kansas JI: \"\n",
    "        for index_2, row in sim_results.iterrows():\n",
    "            html_string = html_string + \"<a href='Kansas.html#\"+row[\"section\"]+\"'>\"+row[\"section\"]+\"</a> (\"+str(round(row[\"similarity\"]*100))+\"%); \"\n",
    "        html_string = html_string + \"</p>\"\n",
    "html_string = html_string + \"\"\"\n",
    "    <hr>\n",
    "    <p style=\"text-align:center;margin-bottom:40px;\">\n",
    "        The code used to produce this can be found on <a href=\"https://github.com/SuffolkLITLab/Jury-Instructions/blob/main/web/Jury%20Instruction%20Similarity%20Project.ipynb\" target=\"_blank\">GitHub</a>.\n",
    "    </p>\n",
    "    </div>\n",
    "</html>\n",
    "\"\"\"\n",
    "with open(\"Georgia.html\",\"w\") as file: \n",
    "    file.write(html_string)"
   ]
  },
  {
   "cell_type": "markdown",
   "id": "105bdb57",
   "metadata": {},
   "source": [
    "<p> \n",
    "    <i> Creates the html using the information from the dataframe. Similar to the KA HTML above, the \"section\" and \"text\" columns of the GA dataframe are nested within the for loop. The find_similar function is being used to measure the similarity between the Georgia jury instruction and the Kansas jury instruction. The a-tag is now being used to link the KA similar sections when applicable below the section text of the GA jury instruction. Since the entire KA jury instruction is being iterated through each section of the GA jury instruction, it takes a long time for it to run. However, docdf.iterrows can be spliced to certain sections or certain group of sections which does reduce processing time. \n",
    "        <hr>"
   ]
  }
 ],
 "metadata": {
  "kernelspec": {
   "display_name": "Python 3",
   "language": "python",
   "name": "python3"
  },
  "language_info": {
   "codemirror_mode": {
    "name": "ipython",
    "version": 3
   },
   "file_extension": ".py",
   "mimetype": "text/x-python",
   "name": "python",
   "nbconvert_exporter": "python",
   "pygments_lexer": "ipython3",
   "version": "3.8.8"
  }
 },
 "nbformat": 4,
 "nbformat_minor": 5
}
